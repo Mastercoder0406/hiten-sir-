{
 "cells": [
  {
   "cell_type": "code",
   "execution_count": 1,
   "metadata": {},
   "outputs": [],
   "source": [
    "import numpy as np"
   ]
  },
  {
   "cell_type": "code",
   "execution_count": 2,
   "metadata": {},
   "outputs": [],
   "source": [
    "import pandas as pd"
   ]
  },
  {
   "cell_type": "code",
   "execution_count": 3,
   "metadata": {},
   "outputs": [],
   "source": [
    "import matplotlib.pyplot as plt"
   ]
  },
  {
   "cell_type": "code",
   "execution_count": 4,
   "metadata": {},
   "outputs": [],
   "source": [
    "import warnings"
   ]
  },
  {
   "cell_type": "code",
   "execution_count": 5,
   "metadata": {},
   "outputs": [],
   "source": [
    "warnings.filterwarnings('ignore')"
   ]
  },
  {
   "cell_type": "code",
   "execution_count": 6,
   "metadata": {},
   "outputs": [],
   "source": [
    "from sklearn.naive_bayes import MultinomialNB"
   ]
  },
  {
   "cell_type": "code",
   "execution_count": 7,
   "metadata": {},
   "outputs": [],
   "source": [
    "from sklearn.multiclass import OneVsRestClassifier"
   ]
  },
  {
   "cell_type": "code",
   "execution_count": 8,
   "metadata": {},
   "outputs": [],
   "source": [
    "from sklearn import metrics"
   ]
  },
  {
   "cell_type": "code",
   "execution_count": 9,
   "metadata": {},
   "outputs": [],
   "source": [
    "from sklearn.metrics import accuracy_score"
   ]
  },
  {
   "cell_type": "code",
   "execution_count": 10,
   "metadata": {},
   "outputs": [],
   "source": [
    "from pandas.plotting import scatter_matrix"
   ]
  },
  {
   "cell_type": "code",
   "execution_count": 11,
   "metadata": {},
   "outputs": [],
   "source": [
    "from sklearn.neighbors import KNeighborsClassifier"
   ]
  },
  {
   "cell_type": "code",
   "execution_count": 12,
   "metadata": {},
   "outputs": [],
   "source": [
    "from sklearn import metrics"
   ]
  },
  {
   "cell_type": "code",
   "execution_count": 13,
   "metadata": {},
   "outputs": [
    {
     "data": {
      "text/html": [
       "<div>\n",
       "<style scoped>\n",
       "    .dataframe tbody tr th:only-of-type {\n",
       "        vertical-align: middle;\n",
       "    }\n",
       "\n",
       "    .dataframe tbody tr th {\n",
       "        vertical-align: top;\n",
       "    }\n",
       "\n",
       "    .dataframe thead th {\n",
       "        text-align: right;\n",
       "    }\n",
       "</style>\n",
       "<table border=\"1\" class=\"dataframe\">\n",
       "  <thead>\n",
       "    <tr style=\"text-align: right;\">\n",
       "      <th></th>\n",
       "      <th>Category</th>\n",
       "      <th>Resume</th>\n",
       "      <th>cleaned_resume</th>\n",
       "    </tr>\n",
       "  </thead>\n",
       "  <tbody>\n",
       "    <tr>\n",
       "      <th>0</th>\n",
       "      <td>Data Science</td>\n",
       "      <td>Skills * Programming Languages: Python (pandas...</td>\n",
       "      <td></td>\n",
       "    </tr>\n",
       "    <tr>\n",
       "      <th>1</th>\n",
       "      <td>Data Science</td>\n",
       "      <td>Education Details \\r\\nMay 2013 to May 2017 B.E...</td>\n",
       "      <td></td>\n",
       "    </tr>\n",
       "    <tr>\n",
       "      <th>2</th>\n",
       "      <td>Data Science</td>\n",
       "      <td>Areas of Interest Deep Learning, Control Syste...</td>\n",
       "      <td></td>\n",
       "    </tr>\n",
       "    <tr>\n",
       "      <th>3</th>\n",
       "      <td>Data Science</td>\n",
       "      <td>Skills â¢ R â¢ Python â¢ SAP HANA â¢ Table...</td>\n",
       "      <td></td>\n",
       "    </tr>\n",
       "    <tr>\n",
       "      <th>4</th>\n",
       "      <td>Data Science</td>\n",
       "      <td>Education Details \\r\\n MCA   YMCAUST,  Faridab...</td>\n",
       "      <td></td>\n",
       "    </tr>\n",
       "  </tbody>\n",
       "</table>\n",
       "</div>"
      ],
      "text/plain": [
       "       Category                                             Resume  \\\n",
       "0  Data Science  Skills * Programming Languages: Python (pandas...   \n",
       "1  Data Science  Education Details \\r\\nMay 2013 to May 2017 B.E...   \n",
       "2  Data Science  Areas of Interest Deep Learning, Control Syste...   \n",
       "3  Data Science  Skills â¢ R â¢ Python â¢ SAP HANA â¢ Table...   \n",
       "4  Data Science  Education Details \\r\\n MCA   YMCAUST,  Faridab...   \n",
       "\n",
       "  cleaned_resume  \n",
       "0                 \n",
       "1                 \n",
       "2                 \n",
       "3                 \n",
       "4                 "
      ]
     },
     "execution_count": 13,
     "metadata": {},
     "output_type": "execute_result"
    }
   ],
   "source": [
    "resumeDataSet = pd.read_csv('resume_dataset.csv' ,encoding='utf-8')\n",
    "resumeDataSet['cleaned_resume'] = ''\n",
    "resumeDataSet.head()"
   ]
  },
  {
   "cell_type": "code",
   "execution_count": 14,
   "metadata": {},
   "outputs": [
    {
     "name": "stdout",
     "output_type": "stream",
     "text": [
      "Displaying the distinct categories of resume -\n",
      "['Data Science' 'HR' 'Advocate' 'Arts' 'Web Designing'\n",
      " 'Mechanical Engineer' 'Sales' 'Health and fitness' 'Civil Engineer'\n",
      " 'Java Developer' 'Business Analyst' 'SAP Developer' 'Automation Testing'\n",
      " 'Electrical Engineering' 'Operations Manager' 'Python Developer'\n",
      " 'DevOps Engineer' 'Network Security Engineer' 'PMO' 'Database' 'Hadoop'\n",
      " 'ETL Developer' 'DotNet Developer' 'Blockchain' 'Testing']\n"
     ]
    }
   ],
   "source": [
    "print (\"Displaying the distinct categories of resume -\")\n",
    "print (resumeDataSet['Category'].unique())\n"
   ]
  },
  {
   "cell_type": "code",
   "execution_count": 15,
   "metadata": {},
   "outputs": [
    {
     "name": "stdout",
     "output_type": "stream",
     "text": [
      "Displaying the distinct categories of resume and the number of records belonging to each category -\n",
      "Category\n",
      "Java Developer               14\n",
      "Database                     11\n",
      "HR                           11\n",
      "Data Science                 10\n",
      "Advocate                     10\n",
      "DotNet Developer              7\n",
      "Hadoop                        7\n",
      "DevOps Engineer               7\n",
      "Automation Testing            7\n",
      "Testing                       7\n",
      "Civil Engineer                6\n",
      "Business Analyst              6\n",
      "SAP Developer                 6\n",
      "Health and fitness            6\n",
      "Python Developer              6\n",
      "Arts                          6\n",
      "Electrical Engineering        5\n",
      "Sales                         5\n",
      "Network Security Engineer     5\n",
      "Mechanical Engineer           5\n",
      "Web Designing                 5\n",
      "ETL Developer                 5\n",
      "Blockchain                    5\n",
      "Operations Manager            4\n",
      "PMO                           3\n",
      "Name: count, dtype: int64\n"
     ]
    }
   ],
   "source": [
    "print (\"Displaying the distinct categories of resume and the number of records belonging to each category -\")\n",
    "print (resumeDataSet['Category'].value_counts())"
   ]
  },
  {
   "cell_type": "code",
   "execution_count": 16,
   "metadata": {},
   "outputs": [],
   "source": [
    "import seaborn as sns"
   ]
  },
  {
   "cell_type": "code",
   "execution_count": 17,
   "metadata": {},
   "outputs": [
    {
     "data": {
      "text/plain": [
       "<Axes: xlabel='count', ylabel='Category'>"
      ]
     },
     "execution_count": 17,
     "metadata": {},
     "output_type": "execute_result"
    },
    {
     "data": {
      "image/png": "[encoded data removed]",
      "text/plain": [
       "<Figure size 1500x1500 with 1 Axes>"
      ]
     },
     "metadata": {},
     "output_type": "display_data"
    }
   ],
   "source": [
    "plt.figure(figsize=(15,15))\n",
    "plt.xticks(rotation=90)\n",
    "sns.countplot(y=\"Category\", data=resumeDataSet)"
   ]
  },
  {
   "cell_type": "code",
   "execution_count": 18,
   "metadata": {},
   "outputs": [],
   "source": [
    "from matplotlib.gridspec import GridSpec"
   ]
  },
  {
   "cell_type": "code",
   "execution_count": 19,
   "metadata": {},
   "outputs": [],
   "source": [
    "import tkinter as tk\n",
    "import csv\n",
    "from tkinter import ttk\n",
    "import matplotlib.pyplot as plt\n",
    "from matplotlib.backends.backend_tkagg import FigureCanvasTkAgg\n",
    "import numpy as np\n",
    "import pandas as pd\n",
    "\n",
    "class ResumeScreeningWindow:\n",
    "    def __init__(self, master):\n",
    "        self.master = master\n",
    "        master.title(\"Resume Screening\")\n",
    "        master.geometry(\"700x700\")\n",
    "        master.configure(bg=\"#f4f4f9\")\n",
    "\n",
    "        # Create frames\n",
    "        self.left_frame = tk.Frame(master, width=200, height=700, bg=\"#2d2d2d\")\n",
    "        self.left_frame.pack(side=tk.LEFT, fill=tk.Y)\n",
    "\n",
    "        self.center_frame = tk.Frame(master, width=500, height=700, bg=\"#ffffff\")\n",
    "        self.center_frame.pack(side=tk.LEFT, fill=tk.BOTH, expand=True)\n",
    "\n",
    "        self.top_frame = tk.Frame(master, width=700, height=50, bg=\"#2d2d2d\")\n",
    "        self.top_frame.pack(side=tk.TOP, fill=tk.X)\n",
    "\n",
    "        # Create widgets\n",
    "        self.resume_listbox = tk.Listbox(self.left_frame, width=30, height=40, bg=\"#f0f0f0\", font=(\"Arial\", 12), bd=0, selectmode=tk.SINGLE)\n",
    "        self.resume_listbox.pack(side=tk.LEFT, fill=tk.BOTH, expand=True)\n",
    "\n",
    "        self.resume_label = tk.Label(self.center_frame, text=\"Resume Screening\", font=(\"Arial\", 24, \"bold\"), bg=\"#ffffff\", fg=\"#333333\")\n",
    "        self.resume_label.pack(side=tk.TOP, fill=tk.X, pady=10)\n",
    "\n",
    "        self.target_resume_text = tk.Text(self.center_frame, width=60, height=35, wrap=tk.WORD, font=(\"Arial\", 12), bg=\"#ffffff\", bd=1, relief=tk.SUNKEN)\n",
    "        self.target_resume_text.pack(side=tk.LEFT, fill=tk.BOTH, expand=True, padx=10, pady=10)\n",
    "\n",
    "        self.search_frame = tk.Frame(self.top_frame, bg=\"#2d2d2d\")\n",
    "        self.search_frame.pack(side=tk.TOP, fill=tk.X, padx=10, pady=5)\n",
    "\n",
    "        self.search_entry = tk.Entry(self.search_frame, width=50, font=(\"Arial\", 12), bd=0, relief=tk.FLAT)\n",
    "        self.search_entry.pack(side=tk.LEFT, fill=tk.X, padx=10)\n",
    "\n",
    "        self.search_button = tk.Button(self.search_frame, text=\"Search\", font=(\"Arial\", 12, \"bold\"), command=self.search_resumes, bg=\"#007bff\", fg=\"#ffffff\", bd=0, relief=tk.FLAT)\n",
    "        self.search_button.pack(side=tk.LEFT, padx=10)\n",
    "\n",
    "        self.pie_chart_frame = tk.Frame(self.center_frame, bg=\"#ffffff\")\n",
    "        self.pie_chart_frame.pack(side=tk.TOP, fill=tk.X, pady=10)\n",
    "\n",
    "        self.show_category_distribution()\n",
    "\n",
    "        # Load resumes from CSV\n",
    "        self.resume_list, self.resume_text_list = self.load_resumes_from_csv('resume_dataset.csv')\n",
    "        for resume in self.resume_list:\n",
    "            self.resume_listbox.insert(tk.END, resume)\n",
    "\n",
    "        # Set default text in search entry\n",
    "        self.search_entry.insert(tk.END, \"Search resumes...\")\n",
    "\n",
    "        # Bind Enter key to the search function\n",
    "        self.master.bind('<Return>', self.search_resumes_event)\n",
    "\n",
    "        # Display the first resume in the text area\n",
    "        self.target_resume_text.delete(1.0, tk.END)\n",
    "        self.target_resume_text.insert(tk.END, self.resume_text_list[0])\n",
    "\n",
    "    def load_resumes_from_csv(self, file_path):\n",
    "        resumes = []\n",
    "        resume_texts = []\n",
    "        resume_set = set()\n",
    "        try:\n",
    "            with open(file_path, mode='r', newline='', encoding='utf-8') as file:\n",
    "                reader = csv.reader(file)\n",
    "                for row in reader:\n",
    "                    if row:  # Check if the row is not empty\n",
    "                        resume = row[0]\n",
    "                        if resume not in resume_set:\n",
    "                            resumes.append(resume)  # Assuming resumes are in the first column\n",
    "                            resume_texts.append('\\n'.join(row))  # Store the full resume text\n",
    "                            resume_set.add(resume)\n",
    "        except FileNotFoundError:\n",
    "            print(f\"File {file_path} not found.\")\n",
    "        except Exception as e:\n",
    "            print(f\"An error occurred: {e}\")\n",
    "        return resumes, resume_texts\n",
    "\n",
    "    def search_resumes(self):\n",
    "        # Get search keyword\n",
    "        keyword = self.search_entry.get()\n",
    "\n",
    "        # Filter resumes based on keyword\n",
    "        filtered_resumes = [(resume, text) for                             resume, text in zip(self.resume_list, self.resume_text_list) \n",
    "                            if keyword.lower() in resume.lower() or keyword.lower() in text.lower()]\n",
    "\n",
    "        # Clear and update resume listbox\n",
    "        self.resume_listbox.delete(0, tk.END)\n",
    "        for resume, _ in filtered_resumes:\n",
    "            self.resume_listbox.insert(tk.END, resume)\n",
    "\n",
    "        # Update the text area with the selected resume\n",
    "        self.target_resume_text.delete(1.0, tk.END)\n",
    "        if filtered_resumes:\n",
    "            self.target_resume_text.insert(tk.END, filtered_resumes[0][1])\n",
    "\n",
    "        # Update the pie chart\n",
    "        self.update_category_distribution()\n",
    "\n",
    "    def search_resumes_event(self, event):\n",
    "        self.search_resumes()\n",
    "\n",
    "    def show_category_distribution(self):\n",
    "        # Create a new figure and axis\n",
    "        fig = plt.Figure(figsize=(5,4), dpi=100)\n",
    "        ax = fig.add_subplot(111)\n",
    "\n",
    "        # Create the pie chart\n",
    "        resumeDataSet = pd.read_csv('resume_dataset.csv')\n",
    "        targetCounts = resumeDataSet['Category'].value_counts()\n",
    "        targetLabels = resumeDataSet['Category'].unique()\n",
    "        cmap = plt.get_cmap('coolwarm')\n",
    "        colors = [cmap(i) for i in np.linspace(0,1, len(targetLabels))]\n",
    "        ax.pie(targetCounts, labels=targetLabels, autopct='%1.1f%%', shadow=True, colors=colors)\n",
    "        ax.set_title('CATEGORY DISTRIBUTION')\n",
    "\n",
    "        # Create a Tkinter canvas to display the chart\n",
    "        canvas = FigureCanvasTkAgg(fig, master=self.pie_chart_frame)\n",
    "        canvas.draw()\n",
    "        canvas.get_tk_widget().pack(side=tk.TOP, fill=tk.BOTH, expand=True, anchor=tk.CENTER)\n",
    "\n",
    "    def update_category_distribution(self):\n",
    "    # Clear the pie chart frame\n",
    "        for widget in self.pie_chart_frame.winfo_children():\n",
    "            widget.destroy()\n",
    "        \n",
    "        # Show the new pie chart\n",
    "        self.show_category_distribution()\n",
    "\n",
    "root = tk.Tk()\n",
    "my_window = ResumeScreeningWindow(root)\n",
    "root.mainloop()"
   ]
  },
  {
   "cell_type": "code",
   "execution_count": 20,
   "metadata": {},
   "outputs": [],
   "source": [
    "import re\n",
    "def cleanResume(resumeText):\n",
    "    resumeText = re.sub('http\\S+\\s*', ' ', resumeText)  # remove URLs\n",
    "    resumeText = re.sub('RT|cc', ' ', resumeText)  # remove RT and cc\n",
    "    resumeText = re.sub('#\\S+', '', resumeText)  # remove hashtags\n",
    "    resumeText = re.sub('@\\S+', '  ', resumeText)  # remove mentions\n",
    "    resumeText = re.sub('[%s]' % re.escape(\"\"\"!\"#$%&'()*+,-./:;<=>?@[\\]^_`{|}~\"\"\"), ' ', resumeText)  # remove punctuations\n",
    "    resumeText = re.sub(r'[^\\x00-\\x7f]',r' ', resumeText) \n",
    "    resumeText = re.sub('\\s+', ' ', resumeText)  # remove extra whitespace\n",
    "    return resumeText\n",
    "    \n",
    "resumeDataSet['cleaned_resume'] = resumeDataSet.Resume.apply(lambda x: cleanResume(x))"
   ]
  },
  {
   "cell_type": "code",
   "execution_count": 21,
   "metadata": {},
   "outputs": [
    {
     "name": "stderr",
     "output_type": "stream",
     "text": [
      "[nltk_data] Downloading package punkt to\n",
      "[nltk_data]     C:\\Users\\Atharva\\AppData\\Roaming\\nltk_data...\n",
      "[nltk_data]   Unzipping tokenizers\\punkt.zip.\n"
     ]
    },
    {
     "data": {
      "text/plain": [
       "True"
      ]
     },
     "execution_count": 21,
     "metadata": {},
     "output_type": "execute_result"
    }
   ],
   "source": [
    "import nltk\n",
    "nltk.download('punkt', force=True)"
   ]
  },
  {
   "cell_type": "code",
   "execution_count": 22,
   "metadata": {},
   "outputs": [
    {
     "name": "stderr",
     "output_type": "stream",
     "text": [
      "[nltk_data] Downloading package stopwords to\n",
      "[nltk_data]     C:\\Users\\Atharva\\AppData\\Roaming\\nltk_data...\n",
      "[nltk_data]   Package stopwords is already up-to-date!\n",
      "[nltk_data] Downloading package punkt to\n",
      "[nltk_data]     C:\\Users\\Atharva\\AppData\\Roaming\\nltk_data...\n",
      "[nltk_data]   Package punkt is already up-to-date!\n"
     ]
    },
    {
     "ename": "NameError",
     "evalue": "name 'word_tokenize' is not defined",
     "output_type": "error",
     "traceback": [
      "\u001b[1;31m---------------------------------------------------------------------------\u001b[0m",
      "\u001b[1;31mNameError\u001b[0m                                 Traceback (most recent call last)",
      "Cell \u001b[1;32mIn[22], line 25\u001b[0m\n\u001b[0;32m     23\u001b[0m     \u001b[38;5;28;01mreturn\u001b[39;00m cleaned_text\n\u001b[0;32m     24\u001b[0m \u001b[38;5;28;01mfor\u001b[39;00m i \u001b[38;5;129;01min\u001b[39;00m \u001b[38;5;28mrange\u001b[39m(\u001b[38;5;241m0\u001b[39m,\u001b[38;5;241m160\u001b[39m):\n\u001b[1;32m---> 25\u001b[0m     cleanedText \u001b[38;5;241m=\u001b[39m \u001b[43mcleanResume\u001b[49m\u001b[43m(\u001b[49m\u001b[43mSentences\u001b[49m\u001b[43m[\u001b[49m\u001b[43mi\u001b[49m\u001b[43m]\u001b[49m\u001b[43m)\u001b[49m\n\u001b[0;32m     26\u001b[0m     cleanedSentences \u001b[38;5;241m+\u001b[39m\u001b[38;5;241m=\u001b[39m cleanedText\n\u001b[0;32m     27\u001b[0m     requiredWords \u001b[38;5;241m=\u001b[39m nltk\u001b[38;5;241m.\u001b[39mword_tokenize(cleanedText)\n",
      "Cell \u001b[1;32mIn[22], line 20\u001b[0m, in \u001b[0;36mcleanResume\u001b[1;34m(sentence)\u001b[0m\n\u001b[0;32m     18\u001b[0m \u001b[38;5;28;01mdef\u001b[39;00m \u001b[38;5;21mcleanResume\u001b[39m(sentence):\n\u001b[0;32m     19\u001b[0m     stop_words \u001b[38;5;241m=\u001b[39m \u001b[38;5;28mset\u001b[39m(stopwords\u001b[38;5;241m.\u001b[39mwords(\u001b[38;5;124m'\u001b[39m\u001b[38;5;124menglish\u001b[39m\u001b[38;5;124m'\u001b[39m))\n\u001b[1;32m---> 20\u001b[0m     tokens \u001b[38;5;241m=\u001b[39m \u001b[43mword_tokenize\u001b[49m(sentence)\n\u001b[0;32m     21\u001b[0m     cleaned_tokens \u001b[38;5;241m=\u001b[39m [word \u001b[38;5;28;01mfor\u001b[39;00m word \u001b[38;5;129;01min\u001b[39;00m tokens \u001b[38;5;28;01mif\u001b[39;00m word\u001b[38;5;241m.\u001b[39mlower() \u001b[38;5;129;01mnot\u001b[39;00m \u001b[38;5;129;01min\u001b[39;00m stop_words]\n\u001b[0;32m     22\u001b[0m     cleaned_text \u001b[38;5;241m=\u001b[39m \u001b[38;5;124m'\u001b[39m\u001b[38;5;124m \u001b[39m\u001b[38;5;124m'\u001b[39m\u001b[38;5;241m.\u001b[39mjoin(cleaned_tokens)\n",
      "\u001b[1;31mNameError\u001b[0m: name 'word_tokenize' is not defined"
     ]
    }
   ],
   "source": [
    "import nltk\n",
    "nltk.download('stopwords')\n",
    "nltk.download('punkt')\n",
    "import matplotlib.pyplot as plt\n",
    "from nltk.corpus import stopwords\n",
    "import string\n",
    "from wordcloud import WordCloud\n",
    "import pandas as pd\n",
    "resumeDataSet = pd.read_csv('resume_dataset.csv')\n",
    "\n",
    "\n",
    "oneSetOfStopWords = set(stopwords.words('english')+['``',\"''\"])\n",
    "totalWords =[]\n",
    "Sentences = resumeDataSet['Resume'].values\n",
    "cleanedSentences = \"\"\n",
    "\n",
    "\n",
    "def cleanResume(sentence):\n",
    "    stop_words = set(stopwords.words('english'))\n",
    "    tokens = word_tokenize(sentence)\n",
    "    cleaned_tokens = [word for word in tokens if word.lower() not in stop_words]\n",
    "    cleaned_text = ' '.join(cleaned_tokens)\n",
    "    return cleaned_text\n",
    "for i in range(0,160):\n",
    "    cleanedText = cleanResume(Sentences[i])\n",
    "    cleanedSentences += cleanedText\n",
    "    requiredWords = nltk.word_tokenize(cleanedText)\n",
    "    for word in requiredWords:\n",
    "        if word not in oneSetOfStopWords and word not in string.punctuation:\n",
    "            totalWords.append(word)\n",
    "\n",
    "wordfreqdist = nltk.FreqDist(totalWords)\n",
    "mostcommon = wordfreqdist.most_common(50)\n",
    "print(mostcommon)\n",
    "requiredWords = nltk.word_tokenize(cleanedText)\n",
    "\n",
    "wc = WordCloud().generate(cleanedSentences)\n",
    "plt.figure(figsize=(15,15))\n",
    "plt.imshow(wc, interpolation='bilinear')\n",
    "plt.axis(\"off\")\n",
    "plt.show()"
   ]
  },
  {
   "cell_type": "code",
   "execution_count": null,
   "metadata": {},
   "outputs": [],
   "source": [
    "from sklearn.preprocessing import LabelEncoder\n",
    "\n",
    "var_mod = ['Category']\n",
    "le = LabelEncoder()\n",
    "for i in var_mod:\n",
    "    resumeDataSet[i] = le.fit_transform(resumeDataSet[i])"
   ]
  },
  {
   "cell_type": "code",
   "execution_count": null,
   "metadata": {},
   "outputs": [],
   "source": [
    "from sklearn.model_selection import train_test_split\n",
    "from sklearn.feature_extraction.text import TfidfVectorizer\n",
    "from scipy.sparse import hstack\n",
    "\n",
    "requiredText = resumeDataSet['cleaned_resume'].values\n",
    "requiredTarget = resumeDataSet['Category'].values\n",
    "\n",
    "word_vectorizer = TfidfVectorizer(\n",
    "    sublinear_tf=True,\n",
    "    stop_words='english',\n",
    "    max_features=1500)\n",
    "word_vectorizer.fit(requiredText)\n",
    "WordFeatures = word_vectorizer.transform(requiredText)\n",
    "\n",
    "print (\"Feature completed .....\")\n",
    "\n",
    "X_train,X_test,y_train,y_test = train_test_split(WordFeatures,requiredTarget,random_state=0, test_size=0.2)\n",
    "print(X_train.shape)\n",
    "print(X_test.shape)"
   ]
  },
  {
   "cell_type": "code",
   "execution_count": null,
   "metadata": {},
   "outputs": [],
   "source": [
    "clf = OneVsRestClassifier(KNeighborsClassifier())\n",
    "clf.fit(X_train, y_train)\n",
    "prediction = clf.predict(X_test)\n",
    "print('Accuracy of KNeighbors Classifier on training set: {:.2f}'.format(clf.score(X_train, y_train)))\n",
    "print('Accuracy of KNeighbors Classifier on test set: {:.2f}'.format(clf.score(X_test, y_test)))\n",
    "\n",
    "print(\"\\n Classification report for classifier %s:\\n%s\\n\" % (clf, metrics.classification_report(y_test, prediction)))"
   ]
  },
  {
   "cell_type": "code",
   "execution_count": null,
   "metadata": {},
   "outputs": [],
   "source": []
  }
 ],
 "metadata": {
  "interpreter": {
   "hash": "ac59ebe37160ed0dfa835113d9b8498d9f09ceb179beaac4002f036b9467c963"
  },
  "kernelspec": {
   "display_name": "Python 3.9.7 64-bit",
   "name": "python3"
  },
  "language_info": {
   "codemirror_mode": {
    "name": "ipython",
    "version": 3
   },
   "file_extension": ".py",
   "mimetype": "text/x-python",
   "name": "python",
   "nbconvert_exporter": "python",
   "pygments_lexer": "ipython3",
   "version": "3.12.6"
  }
 },
 "nbformat": 4,
 "nbformat_minor": 4
}
